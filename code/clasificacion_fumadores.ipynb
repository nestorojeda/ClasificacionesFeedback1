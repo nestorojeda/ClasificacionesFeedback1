{
 "cells": [
  {
   "cell_type": "markdown",
   "metadata": {
    "id": "vdSuy9p-qrlr"
   },
   "source": [
    "# Introducción\n",
    "\n",
    "En esta práctica vamos a examinar un conjunto de datos que contiene información biométrica y de salud, con el fin de determinar la presencia o ausencia del hábito de fumar en los individuos a partir de señales bio-saludables. El archivo smoking.csv que utilizaremos incluye características diferentes, tales como edad, peso, altura, niveles de glucosa en ayuno y colesterol, entre otros.\n",
    "\n",
    "Este análisis nos permitirá aplicar y profundizar en técnicas de Machine Learning como SVM y kNN, así como en métodos de ingeniería de características, esenciales para la preparación y optimización de los datos para la modelización. Abordaremos la transformación de variables numéricas y categóricas, y exploraremos cómo estos procesos afectan el rendimiento de los modelos predictivos.\n",
    "\n",
    "Comenzaremos con una exploración de los datos para entender su estructura y las relaciones entre las diferentes variables. Posteriormente, prepararemos los datos para su análisis, aplicando técnicas de preprocesamiento y generando nuevas características que nos ayudarán a capturar la complejidad del conjunto de datos y a mejorar la precisión de nuestros modelos predictivos."
   ]
  },
  {
   "cell_type": "markdown",
   "metadata": {
    "id": "Yl0_LyGZrGOp"
   },
   "source": [
    "## El Dataset\n",
    "\n",
    "El conjunto de datos con el que trabajaremos incluye una serie de atributos relacionados con la salud y mediciones biométricas. Aquí está la descripción de cada atributo y su posible asociación con el hábito de fumar:\n",
    "\n",
    "* **ID**: Identificador único para cada individuo en el dataset. No tiene asociación directa con el hábito de fumar.\n",
    "* **Gender**: Género del individuo, que puede tener variaciones en la prevalencia del hábito de fumar.\n",
    "* **Age**: Edad del individuo, presentada en intervalos de 5 años. La prevalencia del hábito de fumar a menudo disminuye con la edad.\n",
    "* **Height**: Altura en centímetros. No tiene una asociación directa con el hábito de fumar.\n",
    "* **Weight**: Peso en kilogramos. El fumar puede influir en el peso y varía individualmente.\n",
    "* **Waist**: Circunferencia de la cintura en centímetros. El fumar puede afectar la distribución de la grasa corporal.\n",
    "* **Eyesight** (Left/Right): Medición de la agudeza visual para el ojo izquierdo/derecho. No tiene asociación directa con el hábito de fumar.\n",
    "* **Hearing** (Left/Right): Medición de la audición para el oído izquierdo/derecho. No tiene asociación directa con el hábito de fumar.\n",
    "* **Systolic BP**: Presión arterial sistólica. El fumar puede afectar la presión arterial.\n",
    "* **Diastolic BP**: Presión arterial diastólica. El fumar puede afectar la presión arterial.\n",
    "* **Fasting Blood Sugar**: Nivel de azúcar en sangre en ayuno. El fumar puede impactar los niveles de azúcar en sangre.\n",
    "Cholesterol (Total): Nivel total de colesterol. El fumar puede influir en los niveles de colesterol.\n",
    "* **Triglyceride**: Nivel de triglicéridos. El fumar puede influir en los niveles de triglicéridos.\n",
    "* **HDL Cholesterol**: Nivel de colesterol HDL. El fumar puede disminuir los niveles de colesterol HDL.\n",
    "* **LDL Cholesterol**: Nivel de colesterol LDL. El fumar puede influir en los niveles de colesterol LDL.\n",
    "* **Hemoglobin**: Nivel de hemoglobina. No tiene asociación directa con el hábito de fumar.\n",
    "* **Urine Protein**: Presencia de proteína en la orina. El fumar puede impactar la función renal.\n",
    "* **Serum Creatinine**: Nivel de creatinina en suero. El fumar puede impactar la función renal.\n",
    "* **AST/ALT**: Niveles de transaminasas glutámico oxaloacéticas. El fumar puede impactar la función hepática.\n",
    "* **GTP**: Nivel de γ-GTP. El fumar puede impactar el nivel de enzimas hepáticas.\n",
    "* **Oral Exam Status**: Estado del examen oral. El fumar puede impactar la salud oral.\n",
    "* **Dental Caries**: Presencia de caries dentales. El fumar puede afectar la salud dental.\n",
    "* **Tartar Status**: Estado del tártaro. El fumar puede afectar la salud dental.\n",
    "* **Blood Group**: Grupo sanguíneo del individuo.\n",
    "* **Smoking Status**: Indica si el individuo es fumador o no. Esta es la variable objetivo que indica directamente el hábito de fumar.\n",
    "\n",
    "Es importante comprender estas asociaciones, ya que nos ayudarán a determinar qué características pueden ser más relevantes para nuestros modelos predictivos y cómo podríamos necesitar transformarlas para mejorar la precisión de nuestras predicciones.\n",
    "\n",
    "\n",
    "\n",
    "\n",
    "\n"
   ]
  },
  {
   "cell_type": "markdown",
   "metadata": {
    "id": "d60VIJZINyBS"
   },
   "source": [
    "# 0. Importación de librerías"
   ]
  },
  {
   "cell_type": "code",
   "execution_count": 78,
   "metadata": {
    "id": "tA7yeijqohkR"
   },
   "outputs": [],
   "source": [
    "import pandas as pd\n",
    "import numpy as np\n",
    "import matplotlib.pyplot as plt"
   ]
  },
  {
   "cell_type": "code",
   "execution_count": 79,
   "metadata": {},
   "outputs": [],
   "source": [
    "path = \"./datasets/habitos_fumadores.csv\"\n",
    "data = pd.read_csv(path)"
   ]
  },
  {
   "cell_type": "markdown",
   "metadata": {
    "id": "ItQsSaF-u4HL"
   },
   "source": [
    "# Exploración Inicial de Datos"
   ]
  },
  {
   "cell_type": "markdown",
   "metadata": {
    "id": "6lswA0aAvEm5"
   },
   "source": [
    "**Ejercicio 1** - Declara el tamaño del dataset. Con respecto a las columnas, identifica qué variables son numéricas y cuáles son categóricas. ¿Cuál es el individuo menos pesado? ¿Y el más alto? Dibuja un histograma de hombres y mujeres atendiendo a si fuman o no."
   ]
  },
  {
   "cell_type": "code",
   "execution_count": 80,
   "metadata": {
    "id": "bBRLUNiou7N9"
   },
   "outputs": [
    {
     "data": {
      "text/plain": [
       "55692"
      ]
     },
     "execution_count": 80,
     "metadata": {},
     "output_type": "execute_result"
    }
   ],
   "source": [
    "data.shape[0]"
   ]
  },
  {
   "cell_type": "markdown",
   "metadata": {},
   "source": [
    "Separamos el dataset entre las variables categoricas y numéricas"
   ]
  },
  {
   "cell_type": "code",
   "execution_count": 81,
   "metadata": {},
   "outputs": [],
   "source": [
    "numeric_data = data.select_dtypes(include=[np.number])\n",
    "categorical_data = data.select_dtypes(exclude=[np.number])"
   ]
  },
  {
   "cell_type": "markdown",
   "metadata": {},
   "source": [
    "Aún así, nos quedan variables que son categóricas pero estan clasificadas como numericas, como \"dental caries\" o \"smoking\" que representan un si o no."
   ]
  },
  {
   "cell_type": "code",
   "execution_count": 82,
   "metadata": {},
   "outputs": [],
   "source": [
    "for col in numeric_data.columns:\n",
    "    if (data[col].unique().size == 2 and 0 in data[col].unique() and 1 in data[col].unique()):\n",
    "        categorical_data[col] = data[col]\n",
    "        numeric_data.drop(col, axis=1, inplace=True)"
   ]
  },
  {
   "cell_type": "code",
   "execution_count": 83,
   "metadata": {},
   "outputs": [
    {
     "data": {
      "text/plain": [
       "Index(['gender', 'oral', 'tartar', 'blood_group', 'dental caries', 'smoking'], dtype='object')"
      ]
     },
     "execution_count": 83,
     "metadata": {},
     "output_type": "execute_result"
    }
   ],
   "source": [
    "categorical_data.columns"
   ]
  },
  {
   "cell_type": "code",
   "execution_count": 84,
   "metadata": {},
   "outputs": [
    {
     "data": {
      "text/plain": [
       "Index(['ID', 'age', 'height(cm)', 'weight(kg)', 'waist(cm)', 'eyesight(left)',\n",
       "       'eyesight(right)', 'hearing(left)', 'hearing(right)', 'systolic',\n",
       "       'relaxation', 'fasting blood sugar', 'Cholesterol', 'triglyceride',\n",
       "       'HDL', 'LDL', 'hemoglobin', 'Urine protein', 'serum creatinine', 'AST',\n",
       "       'ALT', 'Gtp'],\n",
       "      dtype='object')"
      ]
     },
     "execution_count": 84,
     "metadata": {},
     "output_type": "execute_result"
    }
   ],
   "source": [
    "numeric_data.columns"
   ]
  },
  {
   "cell_type": "markdown",
   "metadata": {},
   "source": [
    "Individuo menos pesado"
   ]
  },
  {
   "cell_type": "code",
   "execution_count": 85,
   "metadata": {},
   "outputs": [
    {
     "data": {
      "text/html": [
       "<div>\n",
       "<style scoped>\n",
       "    .dataframe tbody tr th:only-of-type {\n",
       "        vertical-align: middle;\n",
       "    }\n",
       "\n",
       "    .dataframe tbody tr th {\n",
       "        vertical-align: top;\n",
       "    }\n",
       "\n",
       "    .dataframe thead th {\n",
       "        text-align: right;\n",
       "    }\n",
       "</style>\n",
       "<table border=\"1\" class=\"dataframe\">\n",
       "  <thead>\n",
       "    <tr style=\"text-align: right;\">\n",
       "      <th></th>\n",
       "      <th>ID</th>\n",
       "      <th>gender</th>\n",
       "      <th>age</th>\n",
       "      <th>height(cm)</th>\n",
       "      <th>weight(kg)</th>\n",
       "      <th>waist(cm)</th>\n",
       "      <th>eyesight(left)</th>\n",
       "      <th>eyesight(right)</th>\n",
       "      <th>hearing(left)</th>\n",
       "      <th>hearing(right)</th>\n",
       "      <th>...</th>\n",
       "      <th>Urine protein</th>\n",
       "      <th>serum creatinine</th>\n",
       "      <th>AST</th>\n",
       "      <th>ALT</th>\n",
       "      <th>Gtp</th>\n",
       "      <th>oral</th>\n",
       "      <th>dental caries</th>\n",
       "      <th>tartar</th>\n",
       "      <th>smoking</th>\n",
       "      <th>blood_group</th>\n",
       "    </tr>\n",
       "  </thead>\n",
       "  <tbody>\n",
       "    <tr>\n",
       "      <th>22126</th>\n",
       "      <td>27630</td>\n",
       "      <td>F</td>\n",
       "      <td>60</td>\n",
       "      <td>145</td>\n",
       "      <td>30</td>\n",
       "      <td>53.0</td>\n",
       "      <td>0.5</td>\n",
       "      <td>1.0</td>\n",
       "      <td>1.0</td>\n",
       "      <td>1.0</td>\n",
       "      <td>...</td>\n",
       "      <td>1.0</td>\n",
       "      <td>0.4</td>\n",
       "      <td>22.0</td>\n",
       "      <td>14.0</td>\n",
       "      <td>14.0</td>\n",
       "      <td>Y</td>\n",
       "      <td>0</td>\n",
       "      <td>N</td>\n",
       "      <td>0</td>\n",
       "      <td>0+</td>\n",
       "    </tr>\n",
       "  </tbody>\n",
       "</table>\n",
       "<p>1 rows × 28 columns</p>\n",
       "</div>"
      ],
      "text/plain": [
       "          ID gender  age  height(cm)  weight(kg)  waist(cm)  eyesight(left)  \\\n",
       "22126  27630      F   60         145          30       53.0             0.5   \n",
       "\n",
       "       eyesight(right)  hearing(left)  hearing(right)  ...  Urine protein  \\\n",
       "22126              1.0            1.0             1.0  ...            1.0   \n",
       "\n",
       "       serum creatinine   AST   ALT   Gtp  oral  dental caries  tartar  \\\n",
       "22126               0.4  22.0  14.0  14.0     Y              0       N   \n",
       "\n",
       "       smoking  blood_group  \n",
       "22126        0           0+  \n",
       "\n",
       "[1 rows x 28 columns]"
      ]
     },
     "execution_count": 85,
     "metadata": {},
     "output_type": "execute_result"
    }
   ],
   "source": [
    "data.sort_values(by='weight(kg)', ascending=True).head(1)"
   ]
  },
  {
   "cell_type": "markdown",
   "metadata": {},
   "source": [
    "Individuo mas alto"
   ]
  },
  {
   "cell_type": "code",
   "execution_count": 86,
   "metadata": {},
   "outputs": [
    {
     "data": {
      "text/html": [
       "<div>\n",
       "<style scoped>\n",
       "    .dataframe tbody tr th:only-of-type {\n",
       "        vertical-align: middle;\n",
       "    }\n",
       "\n",
       "    .dataframe tbody tr th {\n",
       "        vertical-align: top;\n",
       "    }\n",
       "\n",
       "    .dataframe thead th {\n",
       "        text-align: right;\n",
       "    }\n",
       "</style>\n",
       "<table border=\"1\" class=\"dataframe\">\n",
       "  <thead>\n",
       "    <tr style=\"text-align: right;\">\n",
       "      <th></th>\n",
       "      <th>ID</th>\n",
       "      <th>gender</th>\n",
       "      <th>age</th>\n",
       "      <th>height(cm)</th>\n",
       "      <th>weight(kg)</th>\n",
       "      <th>waist(cm)</th>\n",
       "      <th>eyesight(left)</th>\n",
       "      <th>eyesight(right)</th>\n",
       "      <th>hearing(left)</th>\n",
       "      <th>hearing(right)</th>\n",
       "      <th>...</th>\n",
       "      <th>Urine protein</th>\n",
       "      <th>serum creatinine</th>\n",
       "      <th>AST</th>\n",
       "      <th>ALT</th>\n",
       "      <th>Gtp</th>\n",
       "      <th>oral</th>\n",
       "      <th>dental caries</th>\n",
       "      <th>tartar</th>\n",
       "      <th>smoking</th>\n",
       "      <th>blood_group</th>\n",
       "    </tr>\n",
       "  </thead>\n",
       "  <tbody>\n",
       "    <tr>\n",
       "      <th>55625</th>\n",
       "      <td>55360</td>\n",
       "      <td>M</td>\n",
       "      <td>35</td>\n",
       "      <td>190</td>\n",
       "      <td>85</td>\n",
       "      <td>80.0</td>\n",
       "      <td>1.0</td>\n",
       "      <td>0.9</td>\n",
       "      <td>1.0</td>\n",
       "      <td>1.0</td>\n",
       "      <td>...</td>\n",
       "      <td>1.0</td>\n",
       "      <td>0.9</td>\n",
       "      <td>22.0</td>\n",
       "      <td>14.0</td>\n",
       "      <td>19.0</td>\n",
       "      <td>Y</td>\n",
       "      <td>0</td>\n",
       "      <td>Y</td>\n",
       "      <td>1</td>\n",
       "      <td>A-</td>\n",
       "    </tr>\n",
       "  </tbody>\n",
       "</table>\n",
       "<p>1 rows × 28 columns</p>\n",
       "</div>"
      ],
      "text/plain": [
       "          ID gender  age  height(cm)  weight(kg)  waist(cm)  eyesight(left)  \\\n",
       "55625  55360      M   35         190          85       80.0             1.0   \n",
       "\n",
       "       eyesight(right)  hearing(left)  hearing(right)  ...  Urine protein  \\\n",
       "55625              0.9            1.0             1.0  ...            1.0   \n",
       "\n",
       "       serum creatinine   AST   ALT   Gtp  oral  dental caries  tartar  \\\n",
       "55625               0.9  22.0  14.0  19.0     Y              0       Y   \n",
       "\n",
       "       smoking  blood_group  \n",
       "55625        1           A-  \n",
       "\n",
       "[1 rows x 28 columns]"
      ]
     },
     "execution_count": 86,
     "metadata": {},
     "output_type": "execute_result"
    }
   ],
   "source": [
    "data.sort_values(by='height(cm)', ascending=False).head(1)"
   ]
  },
  {
   "cell_type": "markdown",
   "metadata": {},
   "source": [
    "Histograma mujeres/hombres antendiendo a si fuman o no"
   ]
  },
  {
   "cell_type": "code",
   "execution_count": 87,
   "metadata": {},
   "outputs": [
    {
     "data": {
      "image/png": "[encoded data removed]",
      "text/plain": [
       "<Figure size 640x480 with 1 Axes>"
      ]
     },
     "metadata": {},
     "output_type": "display_data"
    }
   ],
   "source": [
    "m_data = data[data['gender'] == \"M\"]\n",
    "f_data = data[data['gender'] == \"F\"]\n",
    "width = 0.35\n",
    "labels = ['M', 'F']\n",
    "no_smoking = [m_data['smoking'].size - m_data['smoking'].sum(), f_data['smoking'].size - f_data['smoking'].sum()]\n",
    "smoking = [m_data['smoking'].sum(), f_data['smoking'].sum()]\n",
    "\n",
    "fig, ax = plt.subplots()\n",
    "ax.bar(np.arange(len(labels)) - width/2, no_smoking, width, label='No fuman', color='lightgreen', edgecolor='black')\n",
    "ax.bar(np.arange(len(labels)) + width/2, smoking, width, label='Fuman', color='red', edgecolor='black')\n",
    "\n",
    "ax.set_xticks(np.arange(len(labels)))\n",
    "ax.set_xticklabels(labels)\n",
    "plt.title('Hábitos de fumadores por género')\n",
    "plt.ylabel('Cantidad de personas')\n",
    "plt.xlabel('Género')\n",
    "plt.legend()\n",
    "plt.show()"
   ]
  },
  {
   "cell_type": "markdown",
   "metadata": {
    "id": "XdkTpaibvNH5"
   },
   "source": [
    "**Ejercicio 2** - Sobre la variable continua \"age\" aplica una binarización por umbralización, tomando como umbral la media de las edades, incluyendo esta variable en el Dataframe como \"age_bin\". Haz un conteo de las dos categorías resultantes en la variable binarizada. Sobre la variable continua \"Cholesterol\" aplica una agrupación por cuantiles usando percentiles. Incluye esta variable en el dataframe como \"Cholesterol_per\"."
   ]
  },
  {
   "cell_type": "code",
   "execution_count": 88,
   "metadata": {
    "id": "oLtX0HEmvMSK"
   },
   "outputs": [],
   "source": [
    "threshold = data['age'].mean()\n",
    "data[\"age_bin\"] = data['age'].apply(lambda x: 1 if x > threshold else 0)"
   ]
  },
  {
   "cell_type": "code",
   "execution_count": 89,
   "metadata": {},
   "outputs": [
    {
     "data": {
      "text/plain": [
       "26845"
      ]
     },
     "execution_count": 89,
     "metadata": {},
     "output_type": "execute_result"
    }
   ],
   "source": [
    "above_threshold = data[data['age_bin'] == 1].shape[0]\n",
    "above_threshold"
   ]
  },
  {
   "cell_type": "code",
   "execution_count": 90,
   "metadata": {},
   "outputs": [
    {
     "data": {
      "text/plain": [
       "28847"
      ]
     },
     "execution_count": 90,
     "metadata": {},
     "output_type": "execute_result"
    }
   ],
   "source": [
    "below_threshold = data[data['age_bin'] == 0].shape[0]\n",
    "below_threshold"
   ]
  },
  {
   "cell_type": "code",
   "execution_count": 91,
   "metadata": {},
   "outputs": [],
   "source": [
    "data[\"Cholesterol_bin\"] = pd.qcut(data[\"Cholesterol\"], 4 , labels=False)"
   ]
  },
  {
   "cell_type": "markdown",
   "metadata": {
    "id": "mM60w40JvbFq"
   },
   "source": [
    "**Ejercicio 3** - Sobre la variable continua \"fasting blood sugar\" aplica un escalado máximo-mínimo. Dibuja un histograma de la variable original y otro histograma de la variable tras el escalado: ¿qué conclusiones sacas viendo ambos histogramas?"
   ]
  },
  {
   "cell_type": "code",
   "execution_count": 92,
   "metadata": {
    "id": "J9r6wWDsvgYv"
   },
   "outputs": [],
   "source": [
    "from sklearn import preprocessing\n",
    "min_max_scaler = preprocessing.MinMaxScaler()\n",
    "fasting_blood_sugar_scaled = min_max_scaler.fit_transform(data[\"fasting blood sugar\"].values.reshape(-1, 1))"
   ]
  },
  {
   "cell_type": "markdown",
   "metadata": {},
   "source": [
    "Histograma de la variable original"
   ]
  },
  {
   "cell_type": "code",
   "execution_count": 93,
   "metadata": {},
   "outputs": [
    {
     "data": {
      "image/png": "[encoded data removed]",
      "text/plain": [
       "<Figure size 640x480 with 1 Axes>"
      ]
     },
     "metadata": {},
     "output_type": "display_data"
    }
   ],
   "source": [
    "plt.hist(data[\"fasting blood sugar\"], edgecolor='black')\n",
    "plt.title('Histograma de fasting blood sugar (original)')\n",
    "plt.ylabel('Frecuencia')\n",
    "plt.xlabel('fasting blood sugar')\n",
    "plt.show()"
   ]
  },
  {
   "cell_type": "markdown",
   "metadata": {},
   "source": [
    "Histograma de la variable escalada"
   ]
  },
  {
   "cell_type": "code",
   "execution_count": 94,
   "metadata": {},
   "outputs": [
    {
     "data": {
      "image/png": "[encoded data removed]",
      "text/plain": [
       "<Figure size 640x480 with 1 Axes>"
      ]
     },
     "metadata": {},
     "output_type": "display_data"
    }
   ],
   "source": [
    "plt.hist(fasting_blood_sugar_scaled, edgecolor='black')\n",
    "plt.xlabel('fasting blood sugar')\n",
    "plt.ylabel('Frecuencia')\n",
    "plt.title('Histograma de fasting blood sugar (escalado)')\n",
    "plt.show()"
   ]
  },
  {
   "cell_type": "markdown",
   "metadata": {},
   "source": [
    "**Conclusion:** Podemos ver como la distribucion de los valores tras el escalado min max es similar al que obtuvimos usando la variable original. Con el escalado mínimo-máximo hemos conseguido que la variable \"fasting blood sugar\" esté normalizada en un rango específico, al mismo tiempo que mantenemos su relacion con el resto de variables"
   ]
  },
  {
   "cell_type": "markdown",
   "metadata": {
    "id": "wPO_BeCYvlzC"
   },
   "source": [
    "**Ejercicio 4** - Aisla la variable discreta \"blood_group\" en un dataframe que se componga de esa única variable. Genera 3 dataframes diferentes:\n",
    "\n",
    "*   Uno con variables generadas mediante el método one-hot encoding\n",
    "*   Otro con variables generadas mediante el método dummy coding\n",
    "*   Un último con variables generadas mediante el método effect coding\n",
    "\n"
   ]
  },
  {
   "cell_type": "code",
   "execution_count": 95,
   "metadata": {
    "id": "ijHa74tHvy5O"
   },
   "outputs": [
    {
     "data": {
      "text/html": [
       "<div>\n",
       "<style scoped>\n",
       "    .dataframe tbody tr th:only-of-type {\n",
       "        vertical-align: middle;\n",
       "    }\n",
       "\n",
       "    .dataframe tbody tr th {\n",
       "        vertical-align: top;\n",
       "    }\n",
       "\n",
       "    .dataframe thead th {\n",
       "        text-align: right;\n",
       "    }\n",
       "</style>\n",
       "<table border=\"1\" class=\"dataframe\">\n",
       "  <thead>\n",
       "    <tr style=\"text-align: right;\">\n",
       "      <th></th>\n",
       "      <th>blood_group</th>\n",
       "    </tr>\n",
       "  </thead>\n",
       "  <tbody>\n",
       "    <tr>\n",
       "      <th>0</th>\n",
       "      <td>A+</td>\n",
       "    </tr>\n",
       "    <tr>\n",
       "      <th>1</th>\n",
       "      <td>A-</td>\n",
       "    </tr>\n",
       "    <tr>\n",
       "      <th>2</th>\n",
       "      <td>0+</td>\n",
       "    </tr>\n",
       "    <tr>\n",
       "      <th>3</th>\n",
       "      <td>A+</td>\n",
       "    </tr>\n",
       "    <tr>\n",
       "      <th>4</th>\n",
       "      <td>A-</td>\n",
       "    </tr>\n",
       "  </tbody>\n",
       "</table>\n",
       "</div>"
      ],
      "text/plain": [
       "  blood_group\n",
       "0          A+\n",
       "1          A-\n",
       "2          0+\n",
       "3          A+\n",
       "4          A-"
      ]
     },
     "execution_count": 95,
     "metadata": {},
     "output_type": "execute_result"
    }
   ],
   "source": [
    "blood_group = data[['blood_group']].copy()\n",
    "blood_group.head()"
   ]
  },
  {
   "cell_type": "code",
   "execution_count": 96,
   "metadata": {},
   "outputs": [
    {
     "data": {
      "text/html": [
       "<div>\n",
       "<style scoped>\n",
       "    .dataframe tbody tr th:only-of-type {\n",
       "        vertical-align: middle;\n",
       "    }\n",
       "\n",
       "    .dataframe tbody tr th {\n",
       "        vertical-align: top;\n",
       "    }\n",
       "\n",
       "    .dataframe thead th {\n",
       "        text-align: right;\n",
       "    }\n",
       "</style>\n",
       "<table border=\"1\" class=\"dataframe\">\n",
       "  <thead>\n",
       "    <tr style=\"text-align: right;\">\n",
       "      <th></th>\n",
       "      <th>blood_group_0+</th>\n",
       "      <th>blood_group_A+</th>\n",
       "      <th>blood_group_A-</th>\n",
       "      <th>blood_group_B+</th>\n",
       "    </tr>\n",
       "  </thead>\n",
       "  <tbody>\n",
       "    <tr>\n",
       "      <th>0</th>\n",
       "      <td>False</td>\n",
       "      <td>True</td>\n",
       "      <td>False</td>\n",
       "      <td>False</td>\n",
       "    </tr>\n",
       "    <tr>\n",
       "      <th>1</th>\n",
       "      <td>False</td>\n",
       "      <td>False</td>\n",
       "      <td>True</td>\n",
       "      <td>False</td>\n",
       "    </tr>\n",
       "    <tr>\n",
       "      <th>2</th>\n",
       "      <td>True</td>\n",
       "      <td>False</td>\n",
       "      <td>False</td>\n",
       "      <td>False</td>\n",
       "    </tr>\n",
       "    <tr>\n",
       "      <th>3</th>\n",
       "      <td>False</td>\n",
       "      <td>True</td>\n",
       "      <td>False</td>\n",
       "      <td>False</td>\n",
       "    </tr>\n",
       "    <tr>\n",
       "      <th>4</th>\n",
       "      <td>False</td>\n",
       "      <td>False</td>\n",
       "      <td>True</td>\n",
       "      <td>False</td>\n",
       "    </tr>\n",
       "  </tbody>\n",
       "</table>\n",
       "</div>"
      ],
      "text/plain": [
       "   blood_group_0+  blood_group_A+  blood_group_A-  blood_group_B+\n",
       "0           False            True           False           False\n",
       "1           False           False            True           False\n",
       "2            True           False           False           False\n",
       "3           False            True           False           False\n",
       "4           False           False            True           False"
      ]
     },
     "execution_count": 96,
     "metadata": {},
     "output_type": "execute_result"
    }
   ],
   "source": [
    "blood_group_hot_encoded = pd.get_dummies(blood_group, columns=['blood_group'])\n",
    "blood_group_hot_encoded.head()"
   ]
  },
  {
   "cell_type": "code",
   "execution_count": 97,
   "metadata": {},
   "outputs": [
    {
     "data": {
      "text/html": [
       "<div>\n",
       "<style scoped>\n",
       "    .dataframe tbody tr th:only-of-type {\n",
       "        vertical-align: middle;\n",
       "    }\n",
       "\n",
       "    .dataframe tbody tr th {\n",
       "        vertical-align: top;\n",
       "    }\n",
       "\n",
       "    .dataframe thead th {\n",
       "        text-align: right;\n",
       "    }\n",
       "</style>\n",
       "<table border=\"1\" class=\"dataframe\">\n",
       "  <thead>\n",
       "    <tr style=\"text-align: right;\">\n",
       "      <th></th>\n",
       "      <th>blood_group_A+</th>\n",
       "      <th>blood_group_A-</th>\n",
       "      <th>blood_group_B+</th>\n",
       "    </tr>\n",
       "  </thead>\n",
       "  <tbody>\n",
       "    <tr>\n",
       "      <th>0</th>\n",
       "      <td>True</td>\n",
       "      <td>False</td>\n",
       "      <td>False</td>\n",
       "    </tr>\n",
       "    <tr>\n",
       "      <th>1</th>\n",
       "      <td>False</td>\n",
       "      <td>True</td>\n",
       "      <td>False</td>\n",
       "    </tr>\n",
       "    <tr>\n",
       "      <th>2</th>\n",
       "      <td>False</td>\n",
       "      <td>False</td>\n",
       "      <td>False</td>\n",
       "    </tr>\n",
       "    <tr>\n",
       "      <th>3</th>\n",
       "      <td>True</td>\n",
       "      <td>False</td>\n",
       "      <td>False</td>\n",
       "    </tr>\n",
       "    <tr>\n",
       "      <th>4</th>\n",
       "      <td>False</td>\n",
       "      <td>True</td>\n",
       "      <td>False</td>\n",
       "    </tr>\n",
       "  </tbody>\n",
       "</table>\n",
       "</div>"
      ],
      "text/plain": [
       "   blood_group_A+  blood_group_A-  blood_group_B+\n",
       "0            True           False           False\n",
       "1           False            True           False\n",
       "2           False           False           False\n",
       "3            True           False           False\n",
       "4           False            True           False"
      ]
     },
     "execution_count": 97,
     "metadata": {},
     "output_type": "execute_result"
    }
   ],
   "source": [
    "blood_group_dummy_coded = pd.get_dummies(blood_group, columns=['blood_group'], drop_first=True)\n",
    "blood_group_dummy_coded.head()"
   ]
  },
  {
   "cell_type": "code",
   "execution_count": 98,
   "metadata": {},
   "outputs": [
    {
     "data": {
      "text/html": [
       "<div>\n",
       "<style scoped>\n",
       "    .dataframe tbody tr th:only-of-type {\n",
       "        vertical-align: middle;\n",
       "    }\n",
       "\n",
       "    .dataframe tbody tr th {\n",
       "        vertical-align: top;\n",
       "    }\n",
       "\n",
       "    .dataframe thead th {\n",
       "        text-align: right;\n",
       "    }\n",
       "</style>\n",
       "<table border=\"1\" class=\"dataframe\">\n",
       "  <thead>\n",
       "    <tr style=\"text-align: right;\">\n",
       "      <th></th>\n",
       "      <th>blood_group_A+</th>\n",
       "      <th>blood_group_A-</th>\n",
       "      <th>blood_group_B+</th>\n",
       "    </tr>\n",
       "  </thead>\n",
       "  <tbody>\n",
       "    <tr>\n",
       "      <th>0</th>\n",
       "      <td>1</td>\n",
       "      <td>0</td>\n",
       "      <td>0</td>\n",
       "    </tr>\n",
       "    <tr>\n",
       "      <th>1</th>\n",
       "      <td>0</td>\n",
       "      <td>1</td>\n",
       "      <td>0</td>\n",
       "    </tr>\n",
       "    <tr>\n",
       "      <th>2</th>\n",
       "      <td>-1</td>\n",
       "      <td>-1</td>\n",
       "      <td>-1</td>\n",
       "    </tr>\n",
       "    <tr>\n",
       "      <th>3</th>\n",
       "      <td>1</td>\n",
       "      <td>0</td>\n",
       "      <td>0</td>\n",
       "    </tr>\n",
       "    <tr>\n",
       "      <th>4</th>\n",
       "      <td>0</td>\n",
       "      <td>1</td>\n",
       "      <td>0</td>\n",
       "    </tr>\n",
       "  </tbody>\n",
       "</table>\n",
       "</div>"
      ],
      "text/plain": [
       "   blood_group_A+  blood_group_A-  blood_group_B+\n",
       "0               1               0               0\n",
       "1               0               1               0\n",
       "2              -1              -1              -1\n",
       "3               1               0               0\n",
       "4               0               1               0"
      ]
     },
     "execution_count": 98,
     "metadata": {},
     "output_type": "execute_result"
    }
   ],
   "source": [
    "blood_group_effect_coded = blood_group_dummy_coded.copy()\n",
    "# Casteamos a enteros los valores de la columna para que los datos sean consistentes y no tengamos una mezcla de valores booleanos y enteros.\n",
    "for col in blood_group_effect_coded.columns:\n",
    "    blood_group_effect_coded[col] = blood_group_effect_coded[col].astype(int)\n",
    "all_false = (blood_group_effect_coded == 0).all(axis=1)\n",
    "blood_group_effect_coded.loc[all_false, :] = -1\n",
    "blood_group_effect_coded.head()"
   ]
  },
  {
   "cell_type": "markdown",
   "metadata": {
    "id": "jFxXbswNxPcj"
   },
   "source": [
    "# Preprocesamiento de Datos\n",
    "\n",
    "**Ejercicio 5**: En esta sección, continuar con la preparación de nuestro conjunto de datos para el análisis. Basándose en las tareas realizadas anteriormente:\n",
    "\n",
    "* **División del conjunto de datos**: Segmentar los datos utilizando la librería scikitlearn con la semilla reproducible \"1234\", utilizando un 80% de conjunto de entrenamiento y un 20% de conjunto de testeo. Indicar el tamaño de ambos conjuntos."
   ]
  },
  {
   "cell_type": "code",
   "execution_count": 99,
   "metadata": {
    "id": "QCH2vsKExV3z"
   },
   "outputs": [],
   "source": [
    "from sklearn.model_selection import train_test_split\n",
    "X = data.drop('smoking',axis=1).values\n",
    "y = data['smoking'].values\n",
    "X_train,X_test,y_train,y_test = train_test_split(X,y,train_size=0.8, test_size=0.2, random_state=1234, stratify=y)"
   ]
  },
  {
   "cell_type": "code",
   "execution_count": 100,
   "metadata": {},
   "outputs": [
    {
     "name": "stdout",
     "output_type": "stream",
     "text": [
      "Conjunto de entrenamiento: x=44553 y=44553\n",
      "Conjunto de test: x=11139 y=11139\n"
     ]
    }
   ],
   "source": [
    "print(f'Conjunto de entrenamiento: x={X_train.shape[0]} y={y_train.shape[0]}')\n",
    "print(f'Conjunto de test: x={X_test.shape[0]} y={y_test.shape[0]}')"
   ]
  },
  {
   "cell_type": "markdown",
   "metadata": {
    "id": "ToAZAEkVz2XX"
   },
   "source": [
    "# Análisis Exploratorio de Datos (EDA)\n",
    "\n",
    "**Ejercicio 6**: Explorar profundamente los datos para obtener insights que guíen la construcción del modelo:\n",
    "\n",
    "* **Distribución de variables**: Para la variable \"age\" aplicar una agrupación por cuantiles utilizando deciles. Para cada grupo calcular el WoE asociado de forma manual. Calcular el IV de la variable discretizada con respecto al target. ¿Crees que es una variable importante de cara a su relación con la variable objetivo (smoking)?\n",
    "\n",
    "* **Relaciones entre variables**: Realiza el mismo ejercicio para la variable \"Height\". Segun los resultados obtenidos, ¿cuál crees que tiene un poder predictor más fuerte?"
   ]
  },
  {
   "cell_type": "code",
   "execution_count": 101,
   "metadata": {},
   "outputs": [
    {
     "data": {
      "text/plain": [
       "0.13897309882693892"
      ]
     },
     "execution_count": 101,
     "metadata": {},
     "output_type": "execute_result"
    }
   ],
   "source": [
    "df_age_woes = data[['age', 'smoking']].copy()\n",
    "df_age_woes[\"age_group\"] = pd.qcut(df_age_woes[\"age\"], 10, labels=False, duplicates='drop')\n",
    "\n",
    "age_analysis = df_age_woes.groupby('age_group').agg(\n",
    "    total=('smoking', 'count'),\n",
    "    events=('smoking', 'sum')\n",
    ").reset_index()\n",
    "\n",
    "age_analysis['non_events'] = age_analysis['total'] - age_analysis['events']\n",
    "age_analysis['event_rate'] = age_analysis['events'] / age_analysis['events'].sum()\n",
    "age_analysis['non_event_rate'] = age_analysis['non_events'] / age_analysis['non_events'].sum()\n",
    "age_analysis['WoE'] = np.log(age_analysis['event_rate'] / age_analysis['non_event_rate'])\n",
    "age_analysis['IV'] = (age_analysis['event_rate'] - age_analysis['non_event_rate']) * age_analysis['WoE']\n",
    "age_iv = age_analysis['IV'].sum()\n",
    "\n",
    "age_iv"
   ]
  },
  {
   "cell_type": "code",
   "execution_count": 102,
   "metadata": {},
   "outputs": [
    {
     "data": {
      "text/plain": [
       "1.0507101721284542"
      ]
     },
     "execution_count": 102,
     "metadata": {},
     "output_type": "execute_result"
    }
   ],
   "source": [
    "df_height_woes = data[['height(cm)', 'smoking']].copy()\n",
    "df_height_woes[\"height_group\"] = pd.qcut(df_height_woes[\"height(cm)\"], 10, labels=False, duplicates='drop')\n",
    "\n",
    "height_analysis = df_height_woes.groupby('height_group').agg(\n",
    "    total=('smoking', 'count'),\n",
    "    events=('smoking', 'sum')\n",
    ").reset_index()\n",
    "\n",
    "height_analysis['non_events'] = height_analysis['total'] - height_analysis['events']\n",
    "height_analysis['event_rate'] = height_analysis['events'] / height_analysis['events'].sum()\n",
    "height_analysis['non_event_rate'] = height_analysis['non_events'] / height_analysis['non_events'].sum()\n",
    "height_analysis['WoE'] = np.log(height_analysis['event_rate'] / height_analysis['non_event_rate'])\n",
    "height_analysis['IV'] = (height_analysis['event_rate'] - height_analysis['non_event_rate']) * height_analysis['WoE']\n",
    "height_iv = height_analysis['IV'].sum()\n",
    "\n",
    "height_iv"
   ]
  },
  {
   "cell_type": "markdown",
   "metadata": {},
   "source": [
    "Los resultados del análisis muestran los valores de Information Value (IV) para las variables agrupadas:\n",
    "-\tIV para Edad (Age): 0.139\n",
    "-\tIV para Altura (Height): 1.051\n",
    "\n",
    "Interpretación:\n",
    "-\tLa variable Height tiene un IV significativamente mayor que Age, lo que indica que podría ser un predictor más fuerte para la variable objetivo (smoking).\n",
    "-\tSegún los rangos típicos del IV:\n",
    "-\tUn IV entre 0.1 y 0.3 indica una capacidad predictiva débil a moderada.\n",
    "-\tUn IV mayor a 0.5 (como en el caso de Height) indica una capacidad predictiva fuerte.\n",
    "\n",
    "Por lo tanto, Height parece tener mayor relevancia como predictor en comparación con Age."
   ]
  },
  {
   "cell_type": "markdown",
   "metadata": {
    "id": "xKgV_Lb61LkB"
   },
   "source": [
    "# Selección de Características\n",
    "\n",
    "**Ejercicio 7**: Evaluar y seleccionar las características más informativas para el modelo:\n",
    "\n",
    "* **Determinación de características relevantes**: Utilizando el atributo \".corr()\" del DataFrame en formato pandas enuncia las 3 variables que más se correlen con la variable objetivo. ¿Qué interpretación lógica puedes dar a la correlación obtenida con respecto a dichas variables?\n"
   ]
  },
  {
   "cell_type": "code",
   "execution_count": 116,
   "metadata": {
    "id": "a707Be1L1WSk"
   },
   "outputs": [
    {
     "data": {
      "text/plain": [
       "hemoglobin    0.400678\n",
       "height(cm)    0.396675\n",
       "weight(kg)    0.302780\n",
       "Name: smoking, dtype: float64"
      ]
     },
     "execution_count": 116,
     "metadata": {},
     "output_type": "execute_result"
    }
   ],
   "source": [
    "data.corr(numeric_only=True).loc['smoking', :].sort_values(ascending=False).head(4)[1:]"
   ]
  },
  {
   "cell_type": "markdown",
   "metadata": {},
   "source": [
    "La correlación más fuerte con la hemoglobina puede reflejar cómo fumar afecta a la sangre, mientras que las correlaciones con la altura y el peso podrían estar influenciadas por patrones sociales y culturales."
   ]
  },
  {
   "cell_type": "markdown",
   "metadata": {},
   "source": [
    "Con esto, hemos obtenido las correlaciones positivas, pero tambien sería recomendable conocer si aquellas que son \"más negativas\" son importantes:"
   ]
  },
  {
   "cell_type": "code",
   "execution_count": 104,
   "metadata": {},
   "outputs": [
    {
     "data": {
      "text/plain": [
       "HDL           -0.178470\n",
       "age           -0.162557\n",
       "age_bin       -0.132229\n",
       "LDL           -0.045220\n",
       "Cholesterol   -0.028548\n",
       "Name: smoking, dtype: float64"
      ]
     },
     "execution_count": 104,
     "metadata": {},
     "output_type": "execute_result"
    }
   ],
   "source": [
    "data.corr(numeric_only=True).loc['smoking', :].sort_values(ascending=True).head()"
   ]
  },
  {
   "cell_type": "markdown",
   "metadata": {},
   "source": [
    "Podemos ver como existen correlaciones inversas con el HDL, la edad, el LDL y el colesterol total, pero los valores absolutos no superan a los obtenidos en el paso anterior."
   ]
  },
  {
   "cell_type": "markdown",
   "metadata": {
    "id": "TyzYdzD21iJ6"
   },
   "source": [
    "# Construcción del Modelo\n",
    "\n",
    "**Ejercicio 8**: Elegir y aplicar el modelo de clasificación adecuado a partir de las opciones vistas en clase:\n",
    "\n",
    "* **Entrenamiento**: Capacitar el modelo seleccionado con el conjunto de entrenamiento mediante el algoritmo kNN o el SVM. Justifica tu respuesta.\n"
   ]
  },
  {
   "cell_type": "markdown",
   "metadata": {},
   "source": [
    "Dado que los datos parecen tener una mezcla de variables continuas (por ejemplo, altura, peso, hemoglobina) y categóricas, y queremos maximizar la capacidad de generalización, SVM con un kernel no lineal es una buena elección. SVM puede manejar mejor relaciones complejas entre las variables, lo que es útil si queremos una mayor precisión."
   ]
  },
  {
   "cell_type": "code",
   "execution_count": 105,
   "metadata": {},
   "outputs": [],
   "source": [
    "data_for_training = pd.read_csv(path)\n",
    "# Eliminamos la columna ID ya que no tiene importancia en nuestro entrenamiento.\n",
    "data_for_training.drop([\"ID\"], axis=1, inplace=True)\n",
    "#Hacemos la codificacion de las variables categoricas usando dummy encoding.\n",
    "for col in categorical_data.columns:\n",
    "    if(col != 'smoking'):\n",
    "        data_for_training = pd.concat([data_for_training, pd.get_dummies(data_for_training[col], prefix=col,  drop_first=True)], axis=1)\n",
    "        data_for_training.drop(col, axis=1, inplace=True)\n",
    "y = data_for_training['smoking'].values\n",
    "X_train, X_test, y_train, y_test = train_test_split(data_for_training.values, y, train_size=0.8, test_size=0.2, random_state=1234, stratify=y)"
   ]
  },
  {
   "cell_type": "code",
   "execution_count": 106,
   "metadata": {},
   "outputs": [
    {
     "name": "stdout",
     "output_type": "stream",
     "text": [
      "SVM (rbf) Train accuracy 0.7720243305725765\n",
      "SVM (rbf) Test accuracy 0.767752940120298\n"
     ]
    }
   ],
   "source": [
    "from sklearn.svm import SVC\n",
    "model = SVC(kernel='rbf')\n",
    "model.fit(X_train, y_train)\n",
    "print(f'SVM (rbf) Train accuracy {model.score(X_train, y_train)}')\n",
    "print(f'SVM (rbf) Test accuracy {model.score(X_test, y_test)}')"
   ]
  },
  {
   "cell_type": "markdown",
   "metadata": {},
   "source": [
    "En este caso, hemos entrenado el SVM con el kernel RBF y los parámetros por defecto."
   ]
  },
  {
   "cell_type": "markdown",
   "metadata": {
    "id": "d31OmxDV1zQx"
   },
   "source": [
    "# Evaluación del Modelo\n",
    "\n",
    "**Ejercicio 9**: Evaluar el rendimiento del modelo es clave para entender su efectividad. Se incluye:\n",
    "\n",
    "* **Comparación de métricas**: Observar y analizar métricas de rendimiento vistas en clase tales como el accuracy, la precisión, recall, F1-score, AUC-ROC y matriz de confusión. ¿Qué conclusiones se pueden extraer de cada una de estás métricas?\n",
    "\n",
    "* **Validación cruzada**: Utilizar la validación cruzada para optimizar hiperparámetros y confirmar la estabilidad del modelo. ¿Cuál es la mejor configuración de parámetros?"
   ]
  },
  {
   "cell_type": "code",
   "execution_count": 107,
   "metadata": {},
   "outputs": [
    {
     "data": {
      "text/plain": [
       "array([[6132,  916],\n",
       "       [1671, 2420]])"
      ]
     },
     "execution_count": 107,
     "metadata": {},
     "output_type": "execute_result"
    }
   ],
   "source": [
    "from sklearn.metrics import confusion_matrix\n",
    "svm_y_pred = model.predict(X_test)\n",
    "confusion_matrix(y_test,svm_y_pred)"
   ]
  },
  {
   "cell_type": "code",
   "execution_count": 108,
   "metadata": {},
   "outputs": [
    {
     "name": "stdout",
     "output_type": "stream",
     "text": [
      "              precision    recall  f1-score   support\n",
      "\n",
      "           0       0.79      0.87      0.83      7048\n",
      "           1       0.73      0.59      0.65      4091\n",
      "\n",
      "    accuracy                           0.77     11139\n",
      "   macro avg       0.76      0.73      0.74     11139\n",
      "weighted avg       0.76      0.77      0.76     11139\n",
      "\n"
     ]
    }
   ],
   "source": [
    "from sklearn.metrics import classification_report\n",
    "print(classification_report(y_test,svm_y_pred))"
   ]
  },
  {
   "cell_type": "markdown",
   "metadata": {},
   "source": [
    "El modelo tiene un desempeño razonable en general, pero tiene un mejor rendimiento en la clase 0 (negativa), mientras que el desempeño en la clase 1 (positiva) es considerablemente más débil, especialmente en términos de recall."
   ]
  },
  {
   "cell_type": "code",
   "execution_count": 109,
   "metadata": {},
   "outputs": [
    {
     "data": {
      "image/png": "[encoded data removed]",
      "text/plain": [
       "<Figure size 640x480 with 1 Axes>"
      ]
     },
     "metadata": {},
     "output_type": "display_data"
    }
   ],
   "source": [
    "from sklearn.metrics import RocCurveDisplay\n",
    "svc_disp = RocCurveDisplay.from_estimator(model, X_test, y_test)\n",
    "plt.show()"
   ]
  },
  {
   "cell_type": "markdown",
   "metadata": {},
   "source": [
    "El modelo tiene un desempeño sólido en términos de discriminación entre clases, reflejado en el AUC de 0.86."
   ]
  },
  {
   "cell_type": "markdown",
   "metadata": {},
   "source": [
    "**Preparacion del dataset**\n",
    "\n",
    " Para aislar la validacion cruzada de los cambios hecho anteriormente, volveremos a cargar el dataset. También, haremos un nuevo analisis de la correlacion de las variables para eliminar aquellas que tengan menos correlación. Estableceremos un umbral de 0.1, y eliminaremos las columnas cuyo valor absoluto no llegue a ese valor, para evitar eliminar aquellas columnas que tengan una correlacion negativa como vimos anteriormente"
   ]
  },
  {
   "cell_type": "code",
   "execution_count": 119,
   "metadata": {},
   "outputs": [],
   "source": [
    "data_for_training = pd.read_csv(path)\n",
    "correlations = data_for_training.corr(numeric_only=True).loc['smoking', :]\n",
    "absolute_correlations = correlations.abs().sort_values(ascending=False)\n",
    "columns_to_drop = absolute_correlations[absolute_correlations < 0.1].index.tolist()\n",
    "\n",
    "data_for_training.drop(columns_to_drop, axis=1, inplace=True)\n",
    "#Hacemos la codificacion de las variables categoricas usando dummy encoding.\n",
    "for col in categorical_data.columns:\n",
    "    if(col != 'smoking'):\n",
    "        data_for_training = pd.concat([data_for_training, pd.get_dummies(data_for_training[col], prefix=col,  drop_first=True)], axis=1)\n",
    "        data_for_training.drop(col, axis=1, inplace=True)\n",
    "y = data_for_training['smoking'].values\n",
    "X_train, X_test, y_train, y_test = train_test_split(data_for_training.values, y, train_size=0.8, test_size=0.2, random_state=1234, stratify=y)"
   ]
  },
  {
   "cell_type": "markdown",
   "metadata": {},
   "source": [
    "Preparamos la validacion cruzada. En este caso, crearemos un pipeline con los escaladores y el modelo de SVM. Esto lo haremos para comparar tambien dos tipos de scalers, el Standard y el MinMax. "
   ]
  },
  {
   "cell_type": "code",
   "execution_count": null,
   "metadata": {},
   "outputs": [
    {
     "name": "stdout",
     "output_type": "stream",
     "text": [
      "Fitting 3 folds for each of 32 candidates, totalling 96 fits\n"
     ]
    },
    {
     "name": "stderr",
     "output_type": "stream",
     "text": [
      "3964.65s - pydevd: Sending message related to process being replaced timed-out after 5 seconds\n",
      "3964.82s - pydevd: Sending message related to process being replaced timed-out after 5 seconds\n",
      "0.00s - Debugger warning: It seems that frozen modules are being used, which may\n",
      "0.00s - make the debugger miss breakpoints. Please pass -Xfrozen_modules=off\n",
      "0.00s - to python to disable frozen modules.\n",
      "0.00s - Note: Debugging will proceed. Set PYDEVD_DISABLE_FILE_VALIDATION=1 to disable this validation.\n",
      "0.00s - Debugger warning: It seems that frozen modules are being used, which may\n",
      "0.00s - make the debugger miss breakpoints. Please pass -Xfrozen_modules=off\n",
      "0.00s - to python to disable frozen modules.\n",
      "0.00s - Note: Debugging will proceed. Set PYDEVD_DISABLE_FILE_VALIDATION=1 to disable this validation.\n",
      "3965.01s - pydevd: Sending message related to process being replaced timed-out after 5 seconds\n",
      "3965.18s - pydevd: Sending message related to process being replaced timed-out after 5 seconds\n",
      "0.00s - Debugger warning: It seems that frozen modules are being used, which may\n",
      "0.00s - make the debugger miss breakpoints. Please pass -Xfrozen_modules=off\n",
      "0.00s - to python to disable frozen modules.\n",
      "0.00s - Note: Debugging will proceed. Set PYDEVD_DISABLE_FILE_VALIDATION=1 to disable this validation.\n",
      "0.00s - Debugger warning: It seems that frozen modules are being used, which may\n",
      "0.00s - make the debugger miss breakpoints. Please pass -Xfrozen_modules=off\n",
      "0.00s - to python to disable frozen modules.\n",
      "0.00s - Note: Debugging will proceed. Set PYDEVD_DISABLE_FILE_VALIDATION=1 to disable this validation.\n"
     ]
    },
    {
     "data": {
      "text/html": [
       "<style>#sk-container-id-5 {color: black;}#sk-container-id-5 pre{padding: 0;}#sk-container-id-5 div.sk-toggleable {background-color: white;}#sk-container-id-5 label.sk-toggleable__label {cursor: pointer;display: block;width: 100%;margin-bottom: 0;padding: 0.3em;box-sizing: border-box;text-align: center;}#sk-container-id-5 label.sk-toggleable__label-arrow:before {content: \"▸\";float: left;margin-right: 0.25em;color: #696969;}#sk-container-id-5 label.sk-toggleable__label-arrow:hover:before {color: black;}#sk-container-id-5 div.sk-estimator:hover label.sk-toggleable__label-arrow:before {color: black;}#sk-container-id-5 div.sk-toggleable__content {max-height: 0;max-width: 0;overflow: hidden;text-align: left;background-color: #f0f8ff;}#sk-container-id-5 div.sk-toggleable__content pre {margin: 0.2em;color: black;border-radius: 0.25em;background-color: #f0f8ff;}#sk-container-id-5 input.sk-toggleable__control:checked~div.sk-toggleable__content {max-height: 200px;max-width: 100%;overflow: auto;}#sk-container-id-5 input.sk-toggleable__control:checked~label.sk-toggleable__label-arrow:before {content: \"▾\";}#sk-container-id-5 div.sk-estimator input.sk-toggleable__control:checked~label.sk-toggleable__label {background-color: #d4ebff;}#sk-container-id-5 div.sk-label input.sk-toggleable__control:checked~label.sk-toggleable__label {background-color: #d4ebff;}#sk-container-id-5 input.sk-hidden--visually {border: 0;clip: rect(1px 1px 1px 1px);clip: rect(1px, 1px, 1px, 1px);height: 1px;margin: -1px;overflow: hidden;padding: 0;position: absolute;width: 1px;}#sk-container-id-5 div.sk-estimator {font-family: monospace;background-color: #f0f8ff;border: 1px dotted black;border-radius: 0.25em;box-sizing: border-box;margin-bottom: 0.5em;}#sk-container-id-5 div.sk-estimator:hover {background-color: #d4ebff;}#sk-container-id-5 div.sk-parallel-item::after {content: \"\";width: 100%;border-bottom: 1px solid gray;flex-grow: 1;}#sk-container-id-5 div.sk-label:hover label.sk-toggleable__label {background-color: #d4ebff;}#sk-container-id-5 div.sk-serial::before {content: \"\";position: absolute;border-left: 1px solid gray;box-sizing: border-box;top: 0;bottom: 0;left: 50%;z-index: 0;}#sk-container-id-5 div.sk-serial {display: flex;flex-direction: column;align-items: center;background-color: white;padding-right: 0.2em;padding-left: 0.2em;position: relative;}#sk-container-id-5 div.sk-item {position: relative;z-index: 1;}#sk-container-id-5 div.sk-parallel {display: flex;align-items: stretch;justify-content: center;background-color: white;position: relative;}#sk-container-id-5 div.sk-item::before, #sk-container-id-5 div.sk-parallel-item::before {content: \"\";position: absolute;border-left: 1px solid gray;box-sizing: border-box;top: 0;bottom: 0;left: 50%;z-index: -1;}#sk-container-id-5 div.sk-parallel-item {display: flex;flex-direction: column;z-index: 1;position: relative;background-color: white;}#sk-container-id-5 div.sk-parallel-item:first-child::after {align-self: flex-end;width: 50%;}#sk-container-id-5 div.sk-parallel-item:last-child::after {align-self: flex-start;width: 50%;}#sk-container-id-5 div.sk-parallel-item:only-child::after {width: 0;}#sk-container-id-5 div.sk-dashed-wrapped {border: 1px dashed gray;margin: 0 0.4em 0.5em 0.4em;box-sizing: border-box;padding-bottom: 0.4em;background-color: white;}#sk-container-id-5 div.sk-label label {font-family: monospace;font-weight: bold;display: inline-block;line-height: 1.2em;}#sk-container-id-5 div.sk-label-container {text-align: center;}#sk-container-id-5 div.sk-container {/* jupyter's `normalize.less` sets `[hidden] { display: none; }` but bootstrap.min.css set `[hidden] { display: none !important; }` so we also need the `!important` here to be able to override the default hidden behavior on the sphinx rendered scikit-learn.org. See: https://github.com/scikit-learn/scikit-learn/issues/21755 */display: inline-block !important;position: relative;}#sk-container-id-5 div.sk-text-repr-fallback {display: none;}</style><div id=\"sk-container-id-5\" class=\"sk-top-container\"><div class=\"sk-text-repr-fallback\"><pre>GridSearchCV(cv=3,\n",
       "             estimator=Pipeline(steps=[(&#x27;scaler&#x27;, &#x27;passthrough&#x27;),\n",
       "                                       (&#x27;svc&#x27;, SVC())]),\n",
       "             n_jobs=-1,\n",
       "             param_grid={&#x27;scaler&#x27;: [StandardScaler(), MinMaxScaler()],\n",
       "                         &#x27;svc__C&#x27;: [0.1, 1, 10, 100],\n",
       "                         &#x27;svc__gamma&#x27;: [1, 0.1, 0.01, 0.001],\n",
       "                         &#x27;svc__kernel&#x27;: [&#x27;rbf&#x27;]},\n",
       "             scoring=&#x27;accuracy&#x27;, verbose=1)</pre><b>In a Jupyter environment, please rerun this cell to show the HTML representation or trust the notebook. <br />On GitHub, the HTML representation is unable to render, please try loading this page with nbviewer.org.</b></div><div class=\"sk-container\" hidden><div class=\"sk-item sk-dashed-wrapped\"><div class=\"sk-label-container\"><div class=\"sk-label sk-toggleable\"><input class=\"sk-toggleable__control sk-hidden--visually\" id=\"sk-estimator-id-17\" type=\"checkbox\" ><label for=\"sk-estimator-id-17\" class=\"sk-toggleable__label sk-toggleable__label-arrow\">GridSearchCV</label><div class=\"sk-toggleable__content\"><pre>GridSearchCV(cv=3,\n",
       "             estimator=Pipeline(steps=[(&#x27;scaler&#x27;, &#x27;passthrough&#x27;),\n",
       "                                       (&#x27;svc&#x27;, SVC())]),\n",
       "             n_jobs=-1,\n",
       "             param_grid={&#x27;scaler&#x27;: [StandardScaler(), MinMaxScaler()],\n",
       "                         &#x27;svc__C&#x27;: [0.1, 1, 10, 100],\n",
       "                         &#x27;svc__gamma&#x27;: [1, 0.1, 0.01, 0.001],\n",
       "                         &#x27;svc__kernel&#x27;: [&#x27;rbf&#x27;]},\n",
       "             scoring=&#x27;accuracy&#x27;, verbose=1)</pre></div></div></div><div class=\"sk-parallel\"><div class=\"sk-parallel-item\"><div class=\"sk-item\"><div class=\"sk-label-container\"><div class=\"sk-label sk-toggleable\"><input class=\"sk-toggleable__control sk-hidden--visually\" id=\"sk-estimator-id-18\" type=\"checkbox\" ><label for=\"sk-estimator-id-18\" class=\"sk-toggleable__label sk-toggleable__label-arrow\">estimator: Pipeline</label><div class=\"sk-toggleable__content\"><pre>Pipeline(steps=[(&#x27;scaler&#x27;, &#x27;passthrough&#x27;), (&#x27;svc&#x27;, SVC())])</pre></div></div></div><div class=\"sk-serial\"><div class=\"sk-item\"><div class=\"sk-serial\"><div class=\"sk-item\"><div class=\"sk-estimator sk-toggleable\"><input class=\"sk-toggleable__control sk-hidden--visually\" id=\"sk-estimator-id-19\" type=\"checkbox\" ><label for=\"sk-estimator-id-19\" class=\"sk-toggleable__label sk-toggleable__label-arrow\">passthrough</label><div class=\"sk-toggleable__content\"><pre>passthrough</pre></div></div></div><div class=\"sk-item\"><div class=\"sk-estimator sk-toggleable\"><input class=\"sk-toggleable__control sk-hidden--visually\" id=\"sk-estimator-id-20\" type=\"checkbox\" ><label for=\"sk-estimator-id-20\" class=\"sk-toggleable__label sk-toggleable__label-arrow\">SVC</label><div class=\"sk-toggleable__content\"><pre>SVC()</pre></div></div></div></div></div></div></div></div></div></div></div></div>"
      ],
      "text/plain": [
       "GridSearchCV(cv=3,\n",
       "             estimator=Pipeline(steps=[('scaler', 'passthrough'),\n",
       "                                       ('svc', SVC())]),\n",
       "             n_jobs=-1,\n",
       "             param_grid={'scaler': [StandardScaler(), MinMaxScaler()],\n",
       "                         'svc__C': [0.1, 1, 10, 100],\n",
       "                         'svc__gamma': [1, 0.1, 0.01, 0.001],\n",
       "                         'svc__kernel': ['rbf']},\n",
       "             scoring='accuracy', verbose=1)"
      ]
     },
     "execution_count": 120,
     "metadata": {},
     "output_type": "execute_result"
    }
   ],
   "source": [
    "from sklearn.pipeline import Pipeline\n",
    "from sklearn.preprocessing import StandardScaler, MinMaxScaler\n",
    "from sklearn.svm import SVC\n",
    "from sklearn.metrics import accuracy_score, classification_report\n",
    "from sklearn.model_selection import GridSearchCV\n",
    "\n",
    "# Configurar el pipeline\n",
    "pipeline = Pipeline([\n",
    "    ('scaler', 'passthrough'),  # Placeholder para el escalador\n",
    "    ('svc', SVC())              # Modelo SVC\n",
    "])\n",
    "\n",
    "# Configurar la búsqueda de hiperparámetros\n",
    "param_grid = {\n",
    "    'scaler': [StandardScaler(), MinMaxScaler()],  # Comparar diferentes escaladores\n",
    "    'svc__C': [0.1, 1, 10, 100],       # Regularización\n",
    "    'svc__gamma': [1, 0.1, 0.01, 0.001],  # Influencia del kernel\n",
    "    'svc__kernel': ['rbf']            # Kernel RBF\n",
    "}\n",
    "\n",
    "# Crear el modelo de búsqueda de hiperparámetros\n",
    "grid_search = GridSearchCV(pipeline, param_grid, cv=3, scoring='accuracy', n_jobs=-1)\n",
    "\n",
    "# Ajustar el modelo utilizando validación cruzada\n",
    "grid_search.fit(X_train, y_train)"
   ]
  },
  {
   "cell_type": "code",
   "execution_count": 121,
   "metadata": {},
   "outputs": [
    {
     "name": "stdout",
     "output_type": "stream",
     "text": [
      "Modelo 32\n",
      "Puntuación: 1.0\n",
      "Parámetros: {'scaler': MinMaxScaler(), 'svc__C': 100, 'svc__gamma': 0.001, 'svc__kernel': 'rbf'}\n",
      "\n",
      "Modelo 22\n",
      "Puntuación: 1.0\n",
      "Parámetros: {'scaler': MinMaxScaler(), 'svc__C': 1, 'svc__gamma': 0.1, 'svc__kernel': 'rbf'}\n",
      "\n",
      "Modelo 31\n",
      "Puntuación: 1.0\n",
      "Parámetros: {'scaler': MinMaxScaler(), 'svc__C': 100, 'svc__gamma': 0.01, 'svc__kernel': 'rbf'}\n",
      "\n",
      "Modelo 17\n",
      "Puntuación: 1.0\n",
      "Parámetros: {'scaler': MinMaxScaler(), 'svc__C': 0.1, 'svc__gamma': 1, 'svc__kernel': 'rbf'}\n",
      "\n",
      "Modelo 18\n",
      "Puntuación: 1.0\n",
      "Parámetros: {'scaler': MinMaxScaler(), 'svc__C': 0.1, 'svc__gamma': 0.1, 'svc__kernel': 'rbf'}\n",
      "\n",
      "Modelo 19\n",
      "Puntuación: 1.0\n",
      "Parámetros: {'scaler': MinMaxScaler(), 'svc__C': 0.1, 'svc__gamma': 0.01, 'svc__kernel': 'rbf'}\n",
      "\n",
      "Modelo 20\n",
      "Puntuación: 1.0\n",
      "Parámetros: {'scaler': MinMaxScaler(), 'svc__C': 0.1, 'svc__gamma': 0.001, 'svc__kernel': 'rbf'}\n",
      "\n",
      "Modelo 21\n",
      "Puntuación: 1.0\n",
      "Parámetros: {'scaler': MinMaxScaler(), 'svc__C': 1, 'svc__gamma': 1, 'svc__kernel': 'rbf'}\n",
      "\n",
      "Modelo 23\n",
      "Puntuación: 1.0\n",
      "Parámetros: {'scaler': MinMaxScaler(), 'svc__C': 1, 'svc__gamma': 0.01, 'svc__kernel': 'rbf'}\n",
      "\n",
      "Modelo 24\n",
      "Puntuación: 1.0\n",
      "Parámetros: {'scaler': MinMaxScaler(), 'svc__C': 1, 'svc__gamma': 0.001, 'svc__kernel': 'rbf'}\n",
      "\n",
      "Modelo 25\n",
      "Puntuación: 1.0\n",
      "Parámetros: {'scaler': MinMaxScaler(), 'svc__C': 10, 'svc__gamma': 1, 'svc__kernel': 'rbf'}\n",
      "\n",
      "Modelo 26\n",
      "Puntuación: 1.0\n",
      "Parámetros: {'scaler': MinMaxScaler(), 'svc__C': 10, 'svc__gamma': 0.1, 'svc__kernel': 'rbf'}\n",
      "\n",
      "Modelo 27\n",
      "Puntuación: 1.0\n",
      "Parámetros: {'scaler': MinMaxScaler(), 'svc__C': 10, 'svc__gamma': 0.01, 'svc__kernel': 'rbf'}\n",
      "\n",
      "Modelo 28\n",
      "Puntuación: 1.0\n",
      "Parámetros: {'scaler': MinMaxScaler(), 'svc__C': 10, 'svc__gamma': 0.001, 'svc__kernel': 'rbf'}\n",
      "\n",
      "Modelo 29\n",
      "Puntuación: 1.0\n",
      "Parámetros: {'scaler': MinMaxScaler(), 'svc__C': 100, 'svc__gamma': 1, 'svc__kernel': 'rbf'}\n",
      "\n",
      "Modelo 30\n",
      "Puntuación: 1.0\n",
      "Parámetros: {'scaler': MinMaxScaler(), 'svc__C': 100, 'svc__gamma': 0.1, 'svc__kernel': 'rbf'}\n",
      "\n",
      "Modelo 4\n",
      "Puntuación: 0.9999775548223463\n",
      "Parámetros: {'scaler': StandardScaler(), 'svc__C': 0.1, 'svc__gamma': 0.001, 'svc__kernel': 'rbf'}\n",
      "\n",
      "Modelo 12\n",
      "Puntuación: 0.9999326644670393\n",
      "Parámetros: {'scaler': StandardScaler(), 'svc__C': 10, 'svc__gamma': 0.001, 'svc__kernel': 'rbf'}\n",
      "\n",
      "Modelo 8\n",
      "Puntuación: 0.9999326644670393\n",
      "Parámetros: {'scaler': StandardScaler(), 'svc__C': 1, 'svc__gamma': 0.001, 'svc__kernel': 'rbf'}\n",
      "\n",
      "Modelo 16\n",
      "Puntuación: 0.9999326644670393\n",
      "Parámetros: {'scaler': StandardScaler(), 'svc__C': 100, 'svc__gamma': 0.001, 'svc__kernel': 'rbf'}\n",
      "\n",
      "Modelo 11\n",
      "Puntuación: 0.9998204385787713\n",
      "Parámetros: {'scaler': StandardScaler(), 'svc__C': 10, 'svc__gamma': 0.01, 'svc__kernel': 'rbf'}\n",
      "\n",
      "Modelo 7\n",
      "Puntuación: 0.9998204385787713\n",
      "Parámetros: {'scaler': StandardScaler(), 'svc__C': 1, 'svc__gamma': 0.01, 'svc__kernel': 'rbf'}\n",
      "\n",
      "Modelo 15\n",
      "Puntuación: 0.9998204385787713\n",
      "Parámetros: {'scaler': StandardScaler(), 'svc__C': 100, 'svc__gamma': 0.01, 'svc__kernel': 'rbf'}\n",
      "\n",
      "Modelo 3\n",
      "Puntuación: 0.999573541624582\n",
      "Parámetros: {'scaler': StandardScaler(), 'svc__C': 0.1, 'svc__gamma': 0.01, 'svc__kernel': 'rbf'}\n",
      "\n",
      "Modelo 10\n",
      "Puntuación: 0.9995286512692747\n",
      "Parámetros: {'scaler': StandardScaler(), 'svc__C': 10, 'svc__gamma': 0.1, 'svc__kernel': 'rbf'}\n",
      "\n",
      "Modelo 14\n",
      "Puntuación: 0.9995286512692747\n",
      "Parámetros: {'scaler': StandardScaler(), 'svc__C': 100, 'svc__gamma': 0.1, 'svc__kernel': 'rbf'}\n",
      "\n",
      "Modelo 6\n",
      "Puntuación: 0.9995062060916212\n",
      "Parámetros: {'scaler': StandardScaler(), 'svc__C': 1, 'svc__gamma': 0.1, 'svc__kernel': 'rbf'}\n",
      "\n",
      "Modelo 2\n",
      "Puntuación: 0.9983839472089421\n",
      "Parámetros: {'scaler': StandardScaler(), 'svc__C': 0.1, 'svc__gamma': 0.1, 'svc__kernel': 'rbf'}\n",
      "\n",
      "Modelo 13\n",
      "Puntuación: 0.901937018831504\n",
      "Parámetros: {'scaler': StandardScaler(), 'svc__C': 100, 'svc__gamma': 1, 'svc__kernel': 'rbf'}\n",
      "\n",
      "Modelo 9\n",
      "Puntuación: 0.901937018831504\n",
      "Parámetros: {'scaler': StandardScaler(), 'svc__C': 10, 'svc__gamma': 1, 'svc__kernel': 'rbf'}\n",
      "\n",
      "Modelo 5\n",
      "Puntuación: 0.8936771934549862\n",
      "Parámetros: {'scaler': StandardScaler(), 'svc__C': 1, 'svc__gamma': 1, 'svc__kernel': 'rbf'}\n",
      "\n",
      "Modelo 1\n",
      "Puntuación: 0.6382735169348864\n",
      "Parámetros: {'scaler': StandardScaler(), 'svc__C': 0.1, 'svc__gamma': 1, 'svc__kernel': 'rbf'}\n",
      "\n"
     ]
    }
   ],
   "source": [
    "# Obtener los resultados de la búsqueda de hiperparámetros\n",
    "results = grid_search.cv_results_\n",
    "\n",
    "# Identificar los índices de los modelos ordenados por puntuación\n",
    "sorted_indices = np.argsort(results['mean_test_score'])[::-1]  # Orden descendente\n",
    "\n",
    "for index in sorted_indices:\n",
    "    print(f\"Modelo {index + 1}\")\n",
    "    print(f\"Puntuación: {results['mean_test_score'][index]}\")\n",
    "    print(f\"Parámetros: {results['params'][index]}\")\n",
    "    print()"
   ]
  },
  {
   "cell_type": "markdown",
   "metadata": {},
   "source": [
    "Obtenemos los mejores parametreos y el mejor modelo y mostramos los datos del entrenamiento"
   ]
  },
  {
   "cell_type": "code",
   "execution_count": 122,
   "metadata": {},
   "outputs": [
    {
     "name": "stdout",
     "output_type": "stream",
     "text": [
      "Mejores parámetros encontrados: {'scaler': MinMaxScaler(), 'svc__C': 0.1, 'svc__gamma': 1, 'svc__kernel': 'rbf'}\n",
      "Precisión del modelo optimizado: 1.0\n",
      "\n",
      "Reporte de clasificación:\n",
      "               precision    recall  f1-score   support\n",
      "\n",
      "           0       1.00      1.00      1.00      7048\n",
      "           1       1.00      1.00      1.00      4091\n",
      "\n",
      "    accuracy                           1.00     11139\n",
      "   macro avg       1.00      1.00      1.00     11139\n",
      "weighted avg       1.00      1.00      1.00     11139\n",
      "\n"
     ]
    }
   ],
   "source": [
    "# Obtener los mejores parámetros y evaluar el modelo\n",
    "best_params = grid_search.best_params_\n",
    "best_model = grid_search.best_estimator_\n",
    "\n",
    "# Realizar predicciones con el modelo optimizado\n",
    "y_pred = best_model.predict(X_test)\n",
    "\n",
    "# Evaluar el rendimiento del modelo\n",
    "accuracy = accuracy_score(y_test, y_pred)\n",
    "classification_rep = classification_report(y_test, y_pred)\n",
    "\n",
    "print(\"Mejores parámetros encontrados:\", best_params)\n",
    "print(\"Precisión del modelo optimizado:\", accuracy)\n",
    "print(\"\\nReporte de clasificación:\\n\", classification_rep)"
   ]
  },
  {
   "cell_type": "markdown",
   "metadata": {
    "id": "OCETMXVh2Lsx"
   },
   "source": [
    "# Interpretación de Resultados y Conclusiones\n",
    "\n",
    "**Ejercicio 10**: Analizar la influencia de cada característica y propuestas de mejora del modelo.\n",
    "\n",
    "* Según lo examinado en el modelo, ¿Cuál crees que es la característica más\n",
    "importante? Justifica tu respuesta.\n",
    "* ¿Cómo crees que podrías mejorar el modelo en futuras iteraciones?\n",
    "\n"
   ]
  }
 ],
 "metadata": {
  "colab": {
   "provenance": [],
   "toc_visible": true
  },
  "kernelspec": {
   "display_name": "Python 3 (ipykernel)",
   "language": "python",
   "name": "python3"
  },
  "language_info": {
   "codemirror_mode": {
    "name": "ipython",
    "version": 3
   },
   "file_extension": ".py",
   "mimetype": "text/x-python",
   "name": "python",
   "nbconvert_exporter": "python",
   "pygments_lexer": "ipython3",
   "version": "3.11.6"
  }
 },
 "nbformat": 4,
 "nbformat_minor": 0
}
